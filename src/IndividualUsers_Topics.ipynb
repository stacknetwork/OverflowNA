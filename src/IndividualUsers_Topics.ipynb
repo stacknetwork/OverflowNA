{
 "cells": [
  {
   "cell_type": "code",
   "execution_count": 28,
   "metadata": {},
   "outputs": [],
   "source": [
    "import networkx as nx\n",
    "import numpy as np\n",
    "import math\n",
    "import collections\n",
    "import matplotlib.pyplot as plt\n",
    "import pandas as pd\n",
    "\n",
    "G2 = nx.read_gpickle(\"<graph_pickle_file>\")"
   ]
  },
  {
   "cell_type": "code",
   "execution_count": 29,
   "metadata": {},
   "outputs": [],
   "source": [
    "from networkx.algorithms import community\n",
    "\n",
    "graphs = list(nx.connected_component_subgraphs(G2))\n",
    "\n",
    "numbers = np.array([])\n",
    "for c in graphs:\n",
    "    n = c.number_of_nodes()\n",
    "    if n == 1608:\n",
    "        biggest = c\n",
    "        break\n",
    "        \n",
    "part = community.greedy_modularity_communities(biggest)\n",
    "all_partitions = part"
   ]
  },
  {
   "cell_type": "code",
   "execution_count": 30,
   "metadata": {},
   "outputs": [
    {
     "data": {
      "image/png": "[encoded data removed]",
      "text/plain": [
       "<matplotlib.figure.Figure at 0x10f47a7f0>"
      ]
     },
     "metadata": {
      "needs_background": "light"
     },
     "output_type": "display_data"
    }
   ],
   "source": [
    "comments_file = \"<comments_dataframe>\"\n",
    "comments = pd.read_pickle(comments_file)\n",
    "\n",
    "posts_file = \"<posts_dataframe>\"\n",
    "posts = pd.read_pickle(posts_file)\n",
    "\n",
    "users_file = \"<users_dataframe>\"\n",
    "users = pd.read_pickle(users_file)\n",
    "\n",
    "users_reputations = {}\n",
    "\n",
    "for node in biggest.nodes():\n",
    "    user = users.loc[users['Id'] == node]\n",
    "    if not user.empty:\n",
    "        reputation = int(user.iloc[0]['Reputation'])\n",
    "        users_reputations[str(user.iloc[0]['Id'])] = reputation\n",
    "\n",
    "sorted_by_value = sorted(users_reputations.items(), key=lambda kv: kv[1], reverse=True)\n",
    "values = list(map(lambda x: str(x[0]), sorted_by_value[0:100]))\n",
    "\n",
    "\n",
    "i = 1\n",
    "partitiot_frekvenssit = []\n",
    "for partition in part:\n",
    "    kaikki = 0\n",
    "    i += 1\n",
    "    for iid in values:\n",
    "        if str(iid) in partition:\n",
    "            kaikki += 1\n",
    "    partitiot_frekvenssit.append(kaikki)\n",
    "            \n",
    "plt.plot(partitiot_frekvenssit, \".\")\n",
    "plt.xlabel(\"Order number in partition sizes\")\n",
    "plt.ylabel(\"Frequency of nodes\")\n",
    "plt.show()"
   ]
  },
  {
   "cell_type": "code",
   "execution_count": 31,
   "metadata": {},
   "outputs": [],
   "source": [
    "partitions_posts = []\n",
    "for partition in part:\n",
    "    p = []\n",
    "    for user in partition:\n",
    "        user_posts = posts.loc[posts['OwnerUserId'] == user]\n",
    "        user_posts = user_posts[user_posts['CreationDate'].str.match('2015-10')]\n",
    "        body = user_posts['Body']\n",
    "        for b in list(body):\n",
    "            p.append(b)\n",
    "    partitions_posts.append(p)"
   ]
  },
  {
   "cell_type": "code",
   "execution_count": 32,
   "metadata": {},
   "outputs": [
    {
     "name": "stdout",
     "output_type": "stream",
     "text": [
      "29\n"
     ]
    }
   ],
   "source": [
    "partition_matrix = []\n",
    "lengths = []\n",
    "average_texts = []\n",
    "\n",
    "# Topic frequencies are written to csv file\n",
    "f = open(\"table2.csv\", \"w+\")\n",
    "print(len(all_partitions))\n",
    "\n",
    "index = 0\n",
    "for partition in partitions_posts:\n",
    "    uusi = []\n",
    "    avlen = 0\n",
    "    item_dict = {'C++':0, 'Java':0, 'NPM':0, 'SQL':0, 'JSON':0, 'PHP':0, 'Python':0, 'CSS':0, 'Javascript': 0, 'C#':0}\n",
    "    for item in partition:\n",
    "        avlen = avlen + len(item)\n",
    "        for key, value in item_dict.items():\n",
    "            item_dict[key] = item_dict[key] + item.lower().count(key.lower())\n",
    "    avlen = avlen / len(partition)\n",
    "    for key, value in item_dict.items():\n",
    "        uusi.append(value)\n",
    "    lengths.append(len(all_partitions[index]))\n",
    "    average_texts.append(avlen)\n",
    "    if len(partition) >= 100:\n",
    "        partition_matrix.append(uusi)\n",
    "        f.write(str(len(all_partitions[index])) + \",\")\n",
    "        f.write(\",\".join(str(x) for x in item_dict.values()) + \"\\n\")\n",
    "    index += 1\n",
    "    \n",
    "f.close()"
   ]
  },
  {
   "cell_type": "code",
   "execution_count": 33,
   "metadata": {},
   "outputs": [
    {
     "name": "stdout",
     "output_type": "stream",
     "text": [
      "(4627.2543507511837, 0.0, 63, array([[  62.9686816 ,  697.04866139,   37.58595723,  600.39905708,\n",
      "         240.15962283,  678.98787675,   91.28018185,  342.66677892,\n",
      "         103.48341472,   44.41976764],\n",
      "       [  14.18370096,  157.01027109,    8.46624011,  135.23993938,\n",
      "          54.09597575,  152.94207779,   20.56086883,   77.1857215 ,\n",
      "          23.30964809,   10.00555649],\n",
      "       [  28.04158949,  310.41387439,   16.73800303,  267.37329517,\n",
      "         106.94931807,  302.37093787,   40.64943593,  152.59841724,\n",
      "          46.0838525 ,   19.78127631],\n",
      "       [   4.17039906,   46.1653477 ,    2.48930796,   39.76427008,\n",
      "          15.90570803,   44.96918673,    6.0454622 ,   22.69472975,\n",
      "           6.85367907,    2.94190941],\n",
      "       [   6.29904024,   69.72891059,    3.75989224,   60.06061627,\n",
      "          24.02424651,   67.92220913,    9.13116686,   34.27849806,\n",
      "          10.3519111 ,    4.44350901],\n",
      "       [   5.64741539,   62.51557501,    3.37093787,   53.84744907,\n",
      "          21.53897963,   60.8957737 ,    8.18656339,   30.73244654,\n",
      "           9.28102374,    3.98383566],\n",
      "       [   2.02003704,   22.36134029,    1.20575855,   19.26081832,\n",
      "           7.70432733,   21.78194982,    2.92827075,   10.99275972,\n",
      "           3.3197508 ,    1.42498737],\n",
      "       [   5.66913622,   62.75601953,    3.38390301,   54.05455464,\n",
      "          21.62182186,   61.12998821,    8.21805018,   30.85064826,\n",
      "           9.31671999,    3.99915811]]))\n"
     ]
    }
   ],
   "source": [
    "from scipy.stats import chi2_contingency\n",
    "partition_matrix = np.array(partition_matrix)\n",
    "\n",
    "p = chi2_contingency(partition_matrix)\n",
    "print(p)"
   ]
  }
 ],
 "metadata": {
  "kernelspec": {
   "display_name": "Python 3",
   "language": "python",
   "name": "python3"
  },
  "language_info": {
   "codemirror_mode": {
    "name": "ipython",
    "version": 3
   },
   "file_extension": ".py",
   "mimetype": "text/x-python",
   "name": "python",
   "nbconvert_exporter": "python",
   "pygments_lexer": "ipython3",
   "version": "3.6.2"
  }
 },
 "nbformat": 4,
 "nbformat_minor": 2
}
