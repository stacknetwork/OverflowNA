{
 "cells": [
  {
   "cell_type": "code",
   "execution_count": 9,
   "metadata": {},
   "outputs": [],
   "source": [
    "import networkx as nx\n",
    "import numpy as np\n",
    "import math\n",
    "import collections\n",
    "import matplotlib.pyplot as plt\n",
    "import pandas as pd\n",
    "\n",
    "G2 = nx.read_gpickle(\"Users_comments_nanremoved_noselfloops_russian_1kk_October.pkl\")"
   ]
  },
  {
   "cell_type": "code",
   "execution_count": 10,
   "metadata": {},
   "outputs": [],
   "source": [
    "from networkx.algorithms import community\n",
    "\n",
    "graphs = list(nx.connected_component_subgraphs(G2))\n",
    "\n",
    "numbers = np.array([])\n",
    "for c in graphs:\n",
    "    n = c.number_of_nodes()\n",
    "    if n == 1608:\n",
    "        biggest = c\n",
    "        break\n",
    "        \n",
    "part = community.greedy_modularity_communities(biggest)\n"
   ]
  },
  {
   "cell_type": "code",
   "execution_count": 11,
   "metadata": {},
   "outputs": [
    {
     "data": {
      "image/png": "[encoded data removed]",
      "text/plain": [
       "<matplotlib.figure.Figure at 0x1096060f0>"
      ]
     },
     "metadata": {
      "needs_background": "light"
     },
     "output_type": "display_data"
    },
    {
     "name": "stdout",
     "output_type": "stream",
     "text": [
      "SpearmanrResult(correlation=0.66791751932805243, pvalue=7.5277266943562664e-05)\n"
     ]
    }
   ],
   "source": [
    "users_file = \"Usersrussian.pkl\"\n",
    "users = pd.read_pickle(users_file)\n",
    "\n",
    "reputations = []\n",
    "degrees = []\n",
    "average_reputations = []\n",
    "part_lengths = []\n",
    "\n",
    "\n",
    "for partition in part:\n",
    "    average_reputation = 0\n",
    "    for item in partition:\n",
    "        user = users.loc[users['Id'] == item]\n",
    "        if user.empty:\n",
    "            continue\n",
    "        reputations.append(int(user['Reputation']))\n",
    "        degrees.append(biggest.degree[item])\n",
    "        average_reputation += int(user['Reputation'])\n",
    "    average = (average_reputation / (len(partition)))\n",
    "    average_reputations.append(average)\n",
    "    part_lengths.append(len(partition))\n",
    "        \n",
    "\n",
    "plt.plot(part_lengths, average_reputations, \".\")\n",
    "plt.xlabel(\"Partition length\")\n",
    "plt.ylabel(\"Average reputation\")\n",
    "plt.show()\n",
    "\n",
    "from scipy import stats\n",
    "print(stats.spearmanr(part_lengths, average_reputations))"
   ]
  }
 ],
 "metadata": {
  "kernelspec": {
   "display_name": "Python 3",
   "language": "python",
   "name": "python3"
  },
  "language_info": {
   "codemirror_mode": {
    "name": "ipython",
    "version": 3
   },
   "file_extension": ".py",
   "mimetype": "text/x-python",
   "name": "python",
   "nbconvert_exporter": "python",
   "pygments_lexer": "ipython3",
   "version": "3.6.2"
  }
 },
 "nbformat": 4,
 "nbformat_minor": 2
}
