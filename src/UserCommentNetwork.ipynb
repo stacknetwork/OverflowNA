{
 "cells": [
  {
   "cell_type": "code",
   "execution_count": 1,
   "metadata": {},
   "outputs": [],
   "source": [
    "import pandas as pd\n",
    "import networkx as nx\n",
    "import numpy as np\n",
    "from datetime import datetime\n",
    "import pickle \n",
    "\n",
    "comments_file = \"../data/Comments.pkl\"\n",
    "comments = pd.read_pickle(comments_file)\n",
    "\n",
    "posts_file = \"../data/Posts.pkl\"\n",
    "posts = pd.read_pickle(posts_file)"
   ]
  },
  {
   "cell_type": "code",
   "execution_count": 8,
   "metadata": {},
   "outputs": [
    {
     "name": "stdout",
     "output_type": "stream",
     "text": [
      "Not found  181549\n",
      "Whole  1097766\n"
     ]
    },
    {
     "data": {
      "text/plain": [
       "3190771"
      ]
     },
     "execution_count": 8,
     "metadata": {},
     "output_type": "execute_result"
    }
   ],
   "source": [
    "post_ids = set(posts['Id'])\n",
    "comment_ids = set(comments['PostId'])\n",
    "\n",
    "not_found = 0\n",
    "for elem in comment_ids:\n",
    "    if elem not in post_ids:\n",
    "        not_found += 1\n",
    "\n",
    "print(\"Not found \", not_found)\n",
    "print(\"Whole \", len(comment_ids))\n",
    "\n",
    "len(comments)\n"
   ]
  },
  {
   "cell_type": "code",
   "execution_count": 9,
   "metadata": {},
   "outputs": [],
   "source": [
    "# Construct post - poster id dictionary \n",
    "index_dict = {}\n",
    "for index, row in posts.iterrows():\n",
    "    index_dict[row['Id']] = row['OwnerUserId']"
   ]
  },
  {
   "cell_type": "code",
   "execution_count": 10,
   "metadata": {},
   "outputs": [
    {
     "name": "stdout",
     "output_type": "stream",
     "text": [
      "3190771\n",
      "0\n",
      "100000\n",
      "200000\n",
      "300000\n",
      "400000\n",
      "500000\n",
      "600000\n",
      "700000\n",
      "800000\n",
      "900000\n",
      "1000000\n",
      "1100000\n",
      "1200000\n",
      "1300000\n",
      "1400000\n",
      "1500000\n",
      "1600000\n",
      "1700000\n",
      "1800000\n",
      "1900000\n",
      "2000000\n",
      "2100000\n",
      "2200000\n",
      "2300000\n",
      "2400000\n",
      "2500000\n",
      "2600000\n",
      "2700000\n",
      "2800000\n",
      "2900000\n",
      "3000000\n",
      "3100000\n"
     ]
    }
   ],
   "source": [
    "# Construct a network\n",
    "\n",
    "print(len(comments))\n",
    "\n",
    "G=nx.Graph()\n",
    "\n",
    "edge_count = 0\n",
    "not_found = 0\n",
    "for index, row in comments.iterrows():\n",
    "    # Set some kind of limit for computation \n",
    "    if index % 100000 == 0:\n",
    "        print(index)\n",
    "    post_id = row['PostId']\n",
    "    commenter_id = row['UserId']\n",
    "    if post_id in index_dict:\n",
    "        G.add_edge(commenter_id, index_dict[post_id])\n",
    "        edge_count += 1\n",
    "    else:\n",
    "        not_found += 1"
   ]
  },
  {
   "cell_type": "code",
   "execution_count": 17,
   "metadata": {},
   "outputs": [
    {
     "name": "stdout",
     "output_type": "stream",
     "text": [
      "2938756\n",
      "1439218\n"
     ]
    }
   ],
   "source": [
    "print(edge_count)\n",
    "print(G.number_of_edges())"
   ]
  },
  {
   "cell_type": "code",
   "execution_count": 18,
   "metadata": {},
   "outputs": [],
   "source": [
    "nx.write_gpickle(G, \"Users_comments.pkl\")"
   ]
  }
 ],
 "metadata": {
  "kernelspec": {
   "display_name": "Python 3",
   "language": "python",
   "name": "python3"
  },
  "language_info": {
   "codemirror_mode": {
    "name": "ipython",
    "version": 3
   },
   "file_extension": ".py",
   "mimetype": "text/x-python",
   "name": "python",
   "nbconvert_exporter": "python",
   "pygments_lexer": "ipython3",
   "version": "3.6.2"
  }
 },
 "nbformat": 4,
 "nbformat_minor": 2
}
