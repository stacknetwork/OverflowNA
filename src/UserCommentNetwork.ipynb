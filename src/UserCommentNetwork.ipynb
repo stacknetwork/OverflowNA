{
 "cells": [
  {
   "cell_type": "code",
   "execution_count": 22,
   "metadata": {},
   "outputs": [],
   "source": [
    "import pandas as pd\n",
    "import networkx as nx\n",
    "import numpy as np\n",
    "from datetime import datetime\n",
    "import pickle \n",
    "\n",
    "# Replace filenames with your own \n",
    "\n",
    "comments_file = \"<comments_file>\"\n",
    "comments = pd.read_pickle(comments_file)\n",
    "\n",
    "posts_file = \"<posts_file>\"\n",
    "posts = pd.read_pickle(posts_file)\n",
    "\n",
    "users_file = \"<users_file>\"\n",
    "users = pd.read_pickle(posts_file)\n"
   ]
  },
  {
   "cell_type": "code",
   "execution_count": 23,
   "metadata": {},
   "outputs": [
    {
     "name": "stdout",
     "output_type": "stream",
     "text": [
      "Not found  1407\n",
      "Whole  32152\n"
     ]
    }
   ],
   "source": [
    "post_ids = set(posts['Id'])\n",
    "comment_ids = set(comments['PostId'])\n",
    "\n",
    "not_found = 0\n",
    "for elem in comment_ids:\n",
    "    if elem not in post_ids:\n",
    "        not_found += 1\n",
    "\n",
    "print(\"Not found \", not_found)\n",
    "print(\"Whole \", len(comment_ids))\n"
   ]
  },
  {
   "cell_type": "code",
   "execution_count": 24,
   "metadata": {},
   "outputs": [],
   "source": [
    "# Construct post - poster id dictionary \n",
    "index_dict = {}\n",
    "for index, row in posts.iterrows():\n",
    "    if str(row['OwnerUserId']).isdigit():\n",
    "        index_dict[row['Id']] = row['OwnerUserId']"
   ]
  },
  {
   "cell_type": "code",
   "execution_count": 25,
   "metadata": {},
   "outputs": [
    {
     "name": "stdout",
     "output_type": "stream",
     "text": [
      "109065\n",
      "0\n",
      "100000\n"
     ]
    }
   ],
   "source": [
    "# Construct a network\n",
    "\n",
    "print(len(comments))\n",
    "\n",
    "G=nx.Graph()\n",
    "\n",
    "edge_count = 0\n",
    "not_found = 0\n",
    "for index, row in comments.iterrows():\n",
    "    if index % 100000 == 0:\n",
    "        print(index)\n",
    "    post_id = row['PostId']\n",
    "    commenter_id = row['UserId']\n",
    "    if \"2015-10\" not in row['CreationDate']:\n",
    "        continue\n",
    "    if post_id in index_dict and str(commenter_id).isdigit():\n",
    "        G.add_edge(commenter_id, index_dict[post_id])\n",
    "        edge_count += 1\n",
    "    else:\n",
    "        not_found += 1"
   ]
  },
  {
   "cell_type": "code",
   "execution_count": 26,
   "metadata": {},
   "outputs": [],
   "source": [
    "G.remove_edges_from(G.selfloop_edges())\n",
    "nx.write_gpickle(G, \"<output_file>\")"
   ]
  },
  {
   "cell_type": "code",
   "execution_count": null,
   "metadata": {},
   "outputs": [],
   "source": []
  },
  {
   "cell_type": "code",
   "execution_count": null,
   "metadata": {},
   "outputs": [],
   "source": []
  }
 ],
 "metadata": {
  "kernelspec": {
   "display_name": "Python 3",
   "language": "python",
   "name": "python3"
  },
  "language_info": {
   "codemirror_mode": {
    "name": "ipython",
    "version": 3
   },
   "file_extension": ".py",
   "mimetype": "text/x-python",
   "name": "python",
   "nbconvert_exporter": "python",
   "pygments_lexer": "ipython3",
   "version": "3.6.2"
  }
 },
 "nbformat": 4,
 "nbformat_minor": 2
}
