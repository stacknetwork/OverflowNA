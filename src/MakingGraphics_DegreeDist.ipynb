{
 "cells": [
  {
   "cell_type": "code",
   "execution_count": 1,
   "metadata": {},
   "outputs": [],
   "source": [
    "import numpy as np \n",
    "import networkx as nx\n",
    "import matplotlib.pyplot as plt\n",
    "import powerlaw\n",
    "\n",
    "\n",
    "%matplotlib inline"
   ]
  },
  {
   "cell_type": "code",
   "execution_count": 2,
   "metadata": {},
   "outputs": [],
   "source": [
    "import pylab\n",
    "pylab.rcParams['xtick.major.pad']='8'\n",
    "pylab.rcParams['ytick.major.pad']='8'\n",
    "#import matplotlib.gridspec as gridspec\n",
    "from matplotlib import rc\n",
    "rc('text', usetex=False)\n",
    "rc('font', family='serif')"
   ]
  },
  {
   "cell_type": "code",
   "execution_count": 3,
   "metadata": {},
   "outputs": [],
   "source": [
    "#plot function from pylab/degree distribution \n",
    "def plot_basics(data, data_inst, fig, units):\n",
    "    from powerlaw import plot_pdf, Fit, pdf\n",
    "    annotate_coord = (-.4, .95)\n",
    "    ax1 = fig.add_subplot(n_graphs,n_data,data_inst)\n",
    "    plot_pdf(data[data>0], ax=ax1, linear_bins=True, color='r', linewidth=.5)\n",
    "    x, y = pdf(data, linear_bins=True)\n",
    "    ind = y>0\n",
    "    y = y[ind]\n",
    "    x = x[:-1]\n",
    "    x = x[ind]\n",
    "    ax1.scatter(x, y, color='r', s=.5)\n",
    "    plot_pdf(data[data>0], ax=ax1, color='b', linewidth=2)\n",
    "    from pylab import setp\n",
    "    setp( ax1.get_xticklabels(), visible=False)\n",
    "    #ax1.set_xticks(ax1.get_xticks()[::2])\n",
    "    ax1.set_yticks(ax1.get_yticks()[::2])\n",
    "    locs,labels = yticks()\n",
    "    #yticks(locs, map(lambda x: \"%.0f\" % x, log10(locs)))\n",
    "    if data_inst==1:\n",
    "        ax1.annotate(\"A\", annotate_coord, xycoords=\"axes fraction\", fontsize=14)\n",
    "\n",
    "    \n",
    "    from mpl_toolkits.axes_grid.inset_locator import inset_axes\n",
    "    ax1in = inset_axes(ax1, width = \"30%\", height = \"30%\", loc=3)\n",
    "    ax1in.hist(data, normed=True, color='b')\n",
    "    ax1in.set_xticks([])\n",
    "    ax1in.set_yticks([])\n",
    "\n",
    "    \n",
    "    ax2 = fig.add_subplot(n_graphs,n_data,n_data+data_inst, sharex=ax1)\n",
    "    plot_pdf(data, ax=ax2, color='b', linewidth=2)\n",
    "    fit = Fit(data, xmin=1, discrete=True)\n",
    "    fit.power_law.plot_pdf(ax=ax2, linestyle=':', color='g')\n",
    "    p = fit.power_law.pdf()\n",
    "    #ax2.set_ylim(min(p), max(p))\n",
    "    ax2.set_xlim(ax1.get_xlim())\n",
    "    \n",
    "    fit = Fit(data, discrete=True)\n",
    "    fit.power_law.plot_pdf(ax=ax2, linestyle='--', color='g')\n",
    "    from pylab import setp\n",
    "    setp( ax2.get_xticklabels(), visible=False)\n",
    "    #ax2.set_xticks(ax2.get_xticks()[::2])\n",
    "    if ax2.get_ylim()[1] >1:\n",
    "        ax2.set_ylim(ax2.get_ylim()[0], 1)\n",
    "    \n",
    "    ax2.set_yticks(ax2.get_yticks()[::2])\n",
    "    #locs,labels = yticks()\n",
    "    #yticks(locs, map(lambda x: \"%.0f\" % x, log10(locs)))\n",
    "    if data_inst==1:\n",
    "       ax2.annotate(\"B\", annotate_coord, xycoords=\"axes fraction\", fontsize=14)        \n",
    "       ax2.set_ylabel(r\"$p(X)$\")# (10^n)\")\n",
    "        \n",
    "    ax3 = fig.add_subplot(n_graphs,n_data,n_data*2+data_inst)#, sharex=ax1)#, sharey=ax2)\n",
    "    fit.power_law.plot_pdf(ax=ax3, linestyle='--', color='g')\n",
    "    fit.exponential.plot_pdf(ax=ax3, linestyle='--', color='r')\n",
    "    fit.plot_pdf(ax=ax3, color='b', linewidth=2)\n",
    "    \n",
    "    #p = fit.power_law.pdf()\n",
    "    ax3.set_ylim(ax2.get_ylim())\n",
    "    ax3.set_yticks(ax3.get_yticks()[::2])\n",
    "    ax3.set_xlim(ax1.get_xlim())\n",
    "    \n",
    "    #locs,labels = yticks()\n",
    "    #yticks(locs, map(lambda x: \"%.0f\" % x, log10(locs)))\n",
    "    if data_inst==1:\n",
    "        ax3.annotate(\"C\", annotate_coord, xycoords=\"axes fraction\", fontsize=14)\n",
    "\n",
    "    #if ax2.get_xlim()!=ax3.get_xlim():\n",
    "    #    zoom_effect01(ax2, ax3, ax3.get_xlim()[0], ax3.get_xlim()[1])\n",
    "    ax3.set_xlabel(units)"
   ]
  },
  {
   "cell_type": "markdown",
   "metadata": {},
   "source": []
  },
  {
   "cell_type": "code",
   "execution_count": 4,
   "metadata": {},
   "outputs": [],
   "source": [
    "#path to pickle files\n",
    "path = \"/home/rick/UH-Spring-2019/Network Analysis/\""
   ]
  },
  {
   "cell_type": "code",
   "execution_count": 5,
   "metadata": {},
   "outputs": [],
   "source": [
    "#getting the data\n",
    "twomonths = path + \"Users_comments.pkl\"\n",
    "tendays = path + 'Users_comments_nanremoved_noselfloops_10days.pkl'\n",
    "threedays = path + 'Users_comments_nanremoved_noselfloops_3days.pkl'\n",
    "rusmonth = path + 'Users_comments_nanremoved_noselfloops_russian_1kk_October.pkl'\n",
    "G = nx.read_gpickle(rusmonth)\n"
   ]
  },
  {
   "cell_type": "code",
   "execution_count": 6,
   "metadata": {},
   "outputs": [
    {
     "name": "stdout",
     "output_type": "stream",
     "text": [
      "4131\n",
      "1608\n"
     ]
    }
   ],
   "source": [
    "#Get the largest connected component \n",
    "subgraphs = list(nx.connected_component_subgraphs(G))\n",
    "prunedgraph = subgraphs[0]\n",
    "print(prunedgraph.number_of_edges())\n",
    "print(prunedgraph.number_of_nodes())"
   ]
  },
  {
   "cell_type": "code",
   "execution_count": 7,
   "metadata": {},
   "outputs": [
    {
     "data": {
      "text/plain": [
       "Text(0.5,0,'Degree k')"
      ]
     },
     "execution_count": 7,
     "metadata": {},
     "output_type": "execute_result"
    },
    {
     "data": {
      "image/png": "[encoded data removed]",
      "text/plain": [
       "<Figure size 432x288 with 1 Axes>"
      ]
     },
     "metadata": {},
     "output_type": "display_data"
    }
   ],
   "source": [
    "degree_sequence = sorted(dict(nx.degree(prunedgraph)).values(), reverse = True)\n",
    "data = degree_sequence\n",
    "\n",
    "figPDF = powerlaw.plot_pdf(data, color='b')\n",
    "powerlaw.plot_pdf(data, linear_bins=True, color='r', ax=figPDF)\n",
    "####\n",
    "figPDF.set_ylabel(r\"$p(X=k)$\")\n",
    "figPDF.set_xlabel(r\"Degree k\")"
   ]
  },
  {
   "cell_type": "code",
   "execution_count": 8,
   "metadata": {},
   "outputs": [
    {
     "name": "stderr",
     "output_type": "stream",
     "text": [
      "Calculating best minimal value for power law fit\n",
      "/home/rick/anaconda3/lib/python3.6/site-packages/powerlaw.py:700: RuntimeWarning: invalid value encountered in true_divide\n",
      "  (Theoretical_CDF * (1 - Theoretical_CDF))\n",
      "/home/rick/anaconda3/lib/python3.6/site-packages/powerlaw.py:700: RuntimeWarning: divide by zero encountered in true_divide\n",
      "  (Theoretical_CDF * (1 - Theoretical_CDF))\n"
     ]
    },
    {
     "data": {
      "text/plain": [
       "Text(0.5,16.2,'Degree k')"
      ]
     },
     "execution_count": 8,
     "metadata": {},
     "output_type": "execute_result"
    },
    {
     "data": {
      "image/png": "[encoded data removed]",
      "text/plain": [
       "<Figure size 432x288 with 1 Axes>"
      ]
     },
     "metadata": {},
     "output_type": "display_data"
    }
   ],
   "source": [
    "fit = powerlaw.Fit(data, discrete=True)\n",
    "####\n",
    "figCCDF = fit.plot_pdf(color='b', linewidth=2)\n",
    "fit.power_law.plot_pdf(color='b', linestyle='--', ax=figCCDF)\n",
    "fit.plot_ccdf(color='r', linewidth=2, ax=figCCDF)\n",
    "fit.power_law.plot_ccdf(color='r', linestyle='--', ax=figCCDF)\n",
    "####\n",
    "figCCDF.set_ylabel(r\"$p(X=k)$,  $p(X\\geq k)$\")\n",
    "figPDF.set_xlabel(r\"Degree k\")"
   ]
  },
  {
   "cell_type": "code",
   "execution_count": 13,
   "metadata": {},
   "outputs": [
    {
     "name": "stdout",
     "output_type": "stream",
     "text": [
      "2.1599833779269906\n"
     ]
    },
    {
     "name": "stderr",
     "output_type": "stream",
     "text": [
      "Calculating best minimal value for power law fit\n",
      "/home/rick/anaconda3/lib/python3.6/site-packages/powerlaw.py:700: RuntimeWarning: invalid value encountered in true_divide\n",
      "  (Theoretical_CDF * (1 - Theoretical_CDF))\n",
      "/home/rick/anaconda3/lib/python3.6/site-packages/powerlaw.py:700: RuntimeWarning: divide by zero encountered in true_divide\n",
      "  (Theoretical_CDF * (1 - Theoretical_CDF))\n"
     ]
    },
    {
     "data": {
      "text/plain": [
       "Text(0.5,1,'Fitted Degree exponent CCDF')"
      ]
     },
     "execution_count": 13,
     "metadata": {},
     "output_type": "execute_result"
    },
    {
     "data": {
      "image/png": "[encoded data removed]",
      "text/plain": [
       "<Figure size 432x288 with 1 Axes>"
      ]
     },
     "metadata": {},
     "output_type": "display_data"
    }
   ],
   "source": [
    "degree_sequence = sorted(dict(nx.degree(prunedgraph)).values(), reverse = True)\n",
    "data = degree_sequence\n",
    "\n",
    "\n",
    "fit = powerlaw.Fit(data, discrete=True)\n",
    "####\n",
    "alpha = fit.power_law.alpha\n",
    "fit.distribution_compare('power_law', 'lognormal')\n",
    "fig = fit.plot_ccdf(linewidth=3, label='Network Data')\n",
    "fit.power_law.plot_ccdf(ax=fig, color='r', linestyle='--', label='Power law fit')\n",
    "fit.lognormal.plot_ccdf(ax=fig, color='g', linestyle='--', label='Lognormal fit')\n",
    "####\n",
    "fig.set_ylabel(r\"$p(X\\geq k)$\")\n",
    "fig.set_xlabel(r\"Degree k\")\n",
    "handles, labels = fig.get_legend_handles_labels()\n",
    "fig.legend(handles, labels, loc=3)\n",
    "print(alpha)\n",
    "alpha = str(round(alpha,4))\n",
    "plt.text(0.75, 0.7,'alpha = ' + alpha , ha='center', va='center', transform=fig.transAxes, color='r')\n",
    "plt.title('Fitted Degree exponent CCDF')"
   ]
  },
  {
   "cell_type": "code",
   "execution_count": null,
   "metadata": {},
   "outputs": [],
   "source": []
  },
  {
   "cell_type": "code",
   "execution_count": null,
   "metadata": {},
   "outputs": [],
   "source": []
  },
  {
   "cell_type": "code",
   "execution_count": null,
   "metadata": {},
   "outputs": [],
   "source": []
  },
  {
   "cell_type": "code",
   "execution_count": null,
   "metadata": {},
   "outputs": [],
   "source": []
  }
 ],
 "metadata": {
  "kernelspec": {
   "display_name": "Python 3",
   "language": "python",
   "name": "python3"
  },
  "language_info": {
   "codemirror_mode": {
    "name": "ipython",
    "version": 3
   },
   "file_extension": ".py",
   "mimetype": "text/x-python",
   "name": "python",
   "nbconvert_exporter": "python",
   "pygments_lexer": "ipython3",
   "version": "3.6.8"
  }
 },
 "nbformat": 4,
 "nbformat_minor": 2
}
