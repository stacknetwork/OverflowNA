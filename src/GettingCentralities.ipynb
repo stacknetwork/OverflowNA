{
 "cells": [
  {
   "cell_type": "code",
   "execution_count": null,
   "metadata": {},
   "outputs": [],
   "source": [
    "import numpy as np \n",
    "import networkx as nx\n",
    "import matplotlib.pyplot as plt\n",
    "from networkx.algorithms import community\n",
    "\n",
    "\n",
    "%matplotlib inline"
   ]
  },
  {
   "cell_type": "code",
   "execution_count": null,
   "metadata": {},
   "outputs": [],
   "source": [
    "#path to pickle files\n",
    "path = \"./\""
   ]
  },
  {
   "cell_type": "code",
   "execution_count": null,
   "metadata": {},
   "outputs": [],
   "source": [
    "#getting the data\n",
    "twomonths = path + \"Users_comments.pkl\"\n",
    "tendays = path + 'Users_comments_nanremoved_noselfloops_10days.pkl'\n",
    "threedays = path + 'Users_comments_nanremoved_noselfloops_3days.pkl'\n",
    "rusmonth = path + 'Users_comments_nanremoved_noselfloops_russian_1kk_October.pkl'\n",
    "G = nx.read_gpickle(threedays)\n"
   ]
  },
  {
   "cell_type": "code",
   "execution_count": null,
   "metadata": {},
   "outputs": [],
   "source": [
    "#Get the largest connected component \n",
    "subgraphs = list(nx.connected_component_subgraphs(G))\n",
    "prunedgraph = subgraphs[0]\n",
    "print(prunedgraph.number_of_edges())\n",
    "print(prunedgraph.number_of_nodes())"
   ]
  },
  {
   "cell_type": "code",
   "execution_count": null,
   "metadata": {},
   "outputs": [],
   "source": [
    "print(G.number_of_edges())\n",
    "print(G.number_of_nodes())"
   ]
  },
  {
   "cell_type": "code",
   "execution_count": null,
   "metadata": {},
   "outputs": [],
   "source": [
    "#calculating Closeness centrality\n",
    "CC = nx.closeness_centrality(prunedgraph)"
   ]
  },
  {
   "cell_type": "code",
   "execution_count": null,
   "metadata": {},
   "outputs": [],
   "source": [
    "#getting the 10 nodes with highest closeness centrality\n",
    "inverseCC = [(value, key) for key, value in CC.items()]\n",
    "top10 = (sorted(inverseCC, reverse = True)[0:10])\n",
    "\n",
    "CCs = set()\n",
    "for item in top10:\n",
    "    CCs.add(item[1])\n",
    "\n",
    "CCs"
   ]
  },
  {
   "cell_type": "code",
   "execution_count": null,
   "metadata": {},
   "outputs": [],
   "source": [
    "#Getting Eigenvector centrality\n",
    "EC = nx.eigenvector_centrality_numpy(prunedgraph)"
   ]
  },
  {
   "cell_type": "code",
   "execution_count": null,
   "metadata": {},
   "outputs": [],
   "source": [
    "#getting top 10 nodes by eigenvector centrality\n",
    "inverseEC = [(value, key) for key, value in EC.items()]\n",
    "top10 = (sorted(inverseEC, reverse = True)[0:10])\n",
    "\n",
    "ECs = set()\n",
    "for item in top10:\n",
    "    ECs.add(item[1])\n",
    "    \n",
    "ECs"
   ]
  },
  {
   "cell_type": "code",
   "execution_count": null,
   "metadata": {},
   "outputs": [],
   "source": [
    "#getting intersection of top10 Eigenvector- and Closeness centrality\n",
    "ECCCintersect = ECs.intersection(CCs)\n",
    "ECCCintersect"
   ]
  },
  {
   "cell_type": "code",
   "execution_count": null,
   "metadata": {},
   "outputs": [],
   "source": [
    "DC = nx.degree_centrality(prunedgraph)"
   ]
  },
  {
   "cell_type": "code",
   "execution_count": null,
   "metadata": {},
   "outputs": [],
   "source": [
    "inverseDC = [(value, key) for key, value in DC.items()]\n",
    "top10 = (sorted(inverseDC, reverse = True)[0:10])\n",
    "\n",
    "DCs = set()\n",
    "for item in top10:\n",
    "    DCs.add(item[1])\n",
    "    \n",
    "DCs"
   ]
  },
  {
   "cell_type": "code",
   "execution_count": null,
   "metadata": {},
   "outputs": [],
   "source": [
    "ECCCintersect.intersection(DCs)"
   ]
  },
  {
   "cell_type": "code",
   "execution_count": null,
   "metadata": {},
   "outputs": [],
   "source": [
    "#Write data to gml so it could be used in gephi for visualization\n",
    "nx.write_gml(prunedgraph, path + 'rusdata')"
   ]
  }
 ],
 "metadata": {
  "kernelspec": {
   "display_name": "Python 3",
   "language": "python",
   "name": "python3"
  },
  "language_info": {
   "codemirror_mode": {
    "name": "ipython",
    "version": 3
   },
   "file_extension": ".py",
   "mimetype": "text/x-python",
   "name": "python",
   "nbconvert_exporter": "python",
   "pygments_lexer": "ipython3",
   "version": "3.6.8"
  }
 },
 "nbformat": 4,
 "nbformat_minor": 2
}
